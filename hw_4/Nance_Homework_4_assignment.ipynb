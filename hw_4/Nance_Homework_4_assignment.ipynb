{
 "cells": [
  {
   "cell_type": "markdown",
   "metadata": {},
   "source": [
    "# Simple Serial (No Parallelization)"
   ]
  },
  {
   "cell_type": "code",
   "execution_count": 28,
   "metadata": {},
   "outputs": [
    {
     "name": "stdout",
     "output_type": "stream",
     "text": [
      "Pi Approximation: 3.14222\n",
      "Number of Darts 200000\n",
      "Execution Time (s) 0.19771504402160645\n",
      "Darts Thrown per Second 1011556.8139475712\n"
     ]
    }
   ],
   "source": [
    "from random import uniform\n",
    "from math import sqrt\n",
    "from time import time\n",
    "\n",
    "# Define the total number of darts we'll throw.\n",
    "number_of_darts = 200000\n",
    "# Define a variable to store the number of darts that fall inside the circle.\n",
    "number_of_darts_in_circle = 0\n",
    "\n",
    "# We will unse the time() to record the execution time of the loop that runs the \n",
    "# dart throwing simulation.\n",
    "start_time = time()\n",
    "\n",
    "# This loop simulates the dar throwing. For each dart, find a random position\n",
    "# in the unit square for it to fall. Test if it falls within the circle by\n",
    "# calculating the distance from the origin (0.5, 0.5) to the dart. Darts that\n",
    "# fall within 0.5 of the origin are within the circle.\n",
    "for n in range(number_of_darts):\n",
    "    x, y = uniform(0, 1), uniform(0, 1)\n",
    "    if sqrt((x - 0.5)**2 + (y - 0.5)**2) <= 0.5:\n",
    "        number_of_darts_in_circle += 1\n",
    "        \n",
    "# Record the time after the conclusion of the loop.\n",
    "end_time = time()\n",
    "# The total time recorded to run the loop is the difference.\n",
    "execution_time = end_time - start_time\n",
    "\n",
    "# We can calculate an approximate numerical value for pi using the formula for\n",
    "# the area of a circle (which defines pi). A = pi * r**2. Here, r=0.5 and the\n",
    "# area of the circule can be approximated by the ratio of the number of darts\n",
    "# that fall inside the circle over the total number of darts thrown. Thus we \n",
    "# have pi = 4 * Area.\n",
    "pi_approx = 4 * number_of_darts_in_circle / float(number_of_darts)\n",
    "\n",
    "# Print out some summary info about the run. Execution time should increase \n",
    "# siwth increaseing number of darts. Darts thrown pers second shoud stay \n",
    "# relatively constant and is sort of a measure of the speed of the processor\n",
    "# (although it is highly dependent on the efficiencies of the various involved\n",
    "# operators and functions).\n",
    "print(\"Pi Approximation:\", pi_approx)\n",
    "print(\"Number of Darts\", number_of_darts)\n",
    "print(\"Execution Time (s)\", execution_time)\n",
    "print(\"Darts Thrown per Second\", number_of_darts/execution_time)"
   ]
  },
  {
   "cell_type": "markdown",
   "metadata": {},
   "source": [
    "# Concurrent.Futures "
   ]
  },
  {
   "cell_type": "code",
   "execution_count": 29,
   "metadata": {
    "collapsed": true
   },
   "outputs": [],
   "source": [
    "# Function being pulled into the pool is defined before the cell that utilizes 'pool'\n",
    "# This function simulates the dar throwing. For each dart, find a random position\n",
    "# in the unit square for it to fall. Test if it falls within the circle by\n",
    "# calculating the distance from the origin (0.5, 0.5) to the dart. Darts that\n",
    "# fall within 0.5 of the origin are within the circle.\n",
    "# Darts within the circle return a '1,' or a 'hit'. Darts outside of the circle return a 'None' and are\n",
    "# not counted. \n",
    "\n",
    "def findpi(number):\n",
    "    x, y = uniform(0, 1), uniform(0, 1)\n",
    "    if sqrt((x - 0.5)**2 + (y - 0.5)**2) <= 0.5:\n",
    "        return 1"
   ]
  },
  {
   "cell_type": "code",
   "execution_count": 30,
   "metadata": {},
   "outputs": [
    {
     "name": "stdout",
     "output_type": "stream",
     "text": [
      "Pi Approximation: 3.14118\n",
      "Number of Darts 200000\n",
      "Execution Time (s) 0.08456301689147949\n",
      "Darts Thrown per Second 2365100.1034726785\n"
     ]
    }
   ],
   "source": [
    "import logging\n",
    "import random\n",
    "from time import time\n",
    "import os\n",
    "from multiprocessing import Pool\n",
    "from random import uniform\n",
    "from math import sqrt\n",
    "import numpy as np\n",
    "\n",
    "# Start 8 worker processes \n",
    "pool = Pool(processes = 8)\n",
    "\n",
    "# Re-define the number of darts used in the code copied above\n",
    "# Begin with 0 darts in the circle\n",
    "\n",
    "number_of_darts = 200000\n",
    "number_of_darts_in_circle = 0\n",
    "start_time = time()\n",
    "\n",
    "# pool.map() calls the function defined in the previous cell, and loops over it 'number_of_darts' times. \n",
    "\n",
    "bingo = pool.map(findpi, range(number_of_darts))\n",
    "\n",
    "# Convert the poll.map() into an array\n",
    "\n",
    "bingo = np.array(bingo)\n",
    "\n",
    "# Take the length of the array where 'bingo' = 1 (i.e. when a dart hits the circle) to determine the number\n",
    "# of times a dart actually hits the circle\n",
    "\n",
    "number_of_darts_in_circle = len(bingo[bingo == 1])\n",
    "\n",
    "# Mark end time and time it took for the process to complete.\n",
    "end_time = time()\n",
    "execution_time = end_time - start_time\n",
    "\n",
    "# Calculate estimation of pi.\n",
    "pi_approx = 4 * number_of_darts_in_circle / float(number_of_darts)\n",
    "\n",
    "# Print relevant values.\n",
    "print(\"Pi Approximation:\", pi_approx)\n",
    "print(\"Number of Darts\", number_of_darts)\n",
    "print(\"Execution Time (s)\", execution_time)\n",
    "print(\"Darts Thrown per Second\", number_of_darts/execution_time)"
   ]
  },
  {
   "cell_type": "markdown",
   "metadata": {},
   "source": [
    "# MultiProcessing with iPyParallel"
   ]
  },
  {
   "cell_type": "code",
   "execution_count": 31,
   "metadata": {},
   "outputs": [
    {
     "name": "stderr",
     "output_type": "stream",
     "text": [
      "/Users/sarafinanance/anaconda/envs/datascience/lib/python3.6/site-packages/ipyparallel/client/client.py:458: RuntimeWarning: \n",
      "            Controller appears to be listening on localhost, but not on this machine.\n",
      "            If this is true, you should specify Client(...,sshserver='you@Sarafinas-MacBook-Pro.local')\n",
      "            or instruct your controller to listen on an external IP.\n",
      "  RuntimeWarning)\n"
     ]
    }
   ],
   "source": [
    "import ipyparallel as ipp\n",
    "from ipyparallel import Client\n",
    "rc = Client()\n",
    "lb_view = rc.load_balanced_view()"
   ]
  },
  {
   "cell_type": "code",
   "execution_count": 32,
   "metadata": {
    "collapsed": true
   },
   "outputs": [],
   "source": [
    "import logging\n",
    "import random\n",
    "from time import time\n",
    "import os\n",
    "from multiprocessing import Pool\n",
    "from random import uniform\n",
    "from math import sqrt\n",
    "import numpy as np"
   ]
  },
  {
   "cell_type": "code",
   "execution_count": 33,
   "metadata": {
    "collapsed": true
   },
   "outputs": [],
   "source": [
    "from random import uniform\n",
    "\n",
    "def findpi_parallel(attempt_number, darts_in_group):\n",
    "    import numpy as np\n",
    "    int_darts = darts_in_group\n",
    "    counter = 0\n",
    "    for i in range(int(int_darts)):\n",
    "        x, y = np.random.uniform(0, 1), np.random.uniform(0, 1)\n",
    "        if np.sqrt((x - 0.5)**2 + (y - 0.5)**2) <= 0.5:\n",
    "            counter += 1\n",
    "    return counter"
   ]
  },
  {
   "cell_type": "code",
   "execution_count": 34,
   "metadata": {},
   "outputs": [
    {
     "name": "stdout",
     "output_type": "stream",
     "text": [
      "Pi Approximation: 3.14136\n",
      "Number of Darts 200000\n",
      "Execution Time (s) 0.24454593658447266\n",
      "Darts Thrown per Second 817842.254070391\n"
     ]
    }
   ],
   "source": [
    "number_of_darts = 200000\n",
    "groups_of_darts = np.full_like(np.ndarray(shape=10), number_of_darts/10)\n",
    "num_of_groups = 10\n",
    "\n",
    "number_of_darts_in_circle = 0\n",
    "start_time = time()\n",
    "\n",
    "bingo = lb_view.map(findpi_parallel, range(num_of_groups), groups_of_darts, block=False)\n",
    "number_of_darts_in_circle = int(sum(bingo.get()))\n",
    "\n",
    "# Mark end time and time it took for the process to complete.\n",
    "end_time = time()\n",
    "execution_time = end_time - start_time\n",
    "\n",
    "# Calculate estimation of pi.\n",
    "pi_approx = 4 * number_of_darts_in_circle / float(number_of_darts)\n",
    "\n",
    "# Print relevant values.\n",
    "print(\"Pi Approximation:\", pi_approx)\n",
    "print(\"Number of Darts\", number_of_darts)\n",
    "print(\"Execution Time (s)\", execution_time)\n",
    "print(\"Darts Thrown per Second\", number_of_darts/execution_time)"
   ]
  },
  {
   "cell_type": "markdown",
   "metadata": {},
   "source": [
    "# Put it all together into a function"
   ]
  },
  {
   "cell_type": "markdown",
   "metadata": {},
   "source": [
    "*Note: before running the parallel script, be sure to put the `ipcluster` command:\n",
    "\n",
    "    $ ipcluster start -n 4\n",
    "    \n",
    "in your terminal to launch your parallel clusters. "
   ]
  },
  {
   "cell_type": "code",
   "execution_count": 1,
   "metadata": {},
   "outputs": [
    {
     "name": "stderr",
     "output_type": "stream",
     "text": [
      "/Users/sarafinanance/anaconda/envs/datascience/lib/python3.6/site-packages/ipyparallel/util.py:208: RuntimeWarning: IPython could not determine IPs for Sarafinas-MacBook-Pro.local: [Errno 8] nodename nor servname provided, or not known\n",
      "  RuntimeWarning)\n",
      "/Users/sarafinanance/anaconda/envs/datascience/lib/python3.6/site-packages/ipyparallel/client/client.py:458: RuntimeWarning: \n",
      "            Controller appears to be listening on localhost, but not on this machine.\n",
      "            If this is true, you should specify Client(...,sshserver='you@Sarafinas-MacBook-Pro.local')\n",
      "            or instruct your controller to listen on an external IP.\n",
      "  RuntimeWarning)\n"
     ]
    }
   ],
   "source": [
    "# Relevant modules:\n",
    "from random import uniform\n",
    "from math import sqrt\n",
    "from time import time\n",
    "import logging\n",
    "import random\n",
    "import os\n",
    "from multiprocessing import Pool\n",
    "from math import sqrt\n",
    "import numpy as np\n",
    "import ipyparallel as ipp\n",
    "from ipyparallel import Client\n",
    "\n",
    "# Establish ipyparallel client.\n",
    "rc = Client()\n",
    "lb_view = rc.load_balanced_view()"
   ]
  },
  {
   "cell_type": "code",
   "execution_count": 35,
   "metadata": {
    "collapsed": true
   },
   "outputs": [],
   "source": [
    "'''\n",
    "In this block, I copy & paste the code from above into functions defined as 'serial', 'multiprocess,' and \n",
    "'parallel'. Each function takes some total number of darts defined as an integer, and loops through over \n",
    "the number of darts.\n",
    "'''\n",
    "\n",
    "# Serial Function:\n",
    "\n",
    "def serial(N):\n",
    "    # An integer number of darts we'll throw.\n",
    "    number_of_darts = int(N)\n",
    "    # Define a variable to store the number of darts that fall inside the circle.\n",
    "    number_of_darts_in_circle = 0\n",
    "\n",
    "    # We will unse the time() to record the execution time of the loop that runs the \n",
    "    # dart throwing simulation.\n",
    "    start_time = time()\n",
    "\n",
    "    # This loop simulates the dar throwing. For each dart, find a random position\n",
    "    # in the unit square for it to fall. Test if it falls within the circle by\n",
    "    # calculating the distance from the origin (0.5, 0.5) to the dart. Darts that\n",
    "    # fall within 0.5 of the origin are within the circle.\n",
    "    for n in range(number_of_darts):\n",
    "        x, y = uniform(0, 1), uniform(0, 1)\n",
    "        if sqrt((x - 0.5)**2 + (y - 0.5)**2) <= 0.5:\n",
    "            number_of_darts_in_circle += 1\n",
    "\n",
    "    # Record the time after the conclusion of the loop.\n",
    "    end_time = time()\n",
    "    # The total time recorded to run the loop is the difference.\n",
    "    execution_time = end_time - start_time\n",
    "\n",
    "    # We can calculate an approximate numerical value for pi using the formula for\n",
    "    # the area of a circle (which defines pi). A = pi * r**2. Here, r=0.5 and the\n",
    "    # area of the circule can be approximated by the ratio of the number of darts\n",
    "    # that fall inside the circle over the total number of darts thrown. Thus we \n",
    "    # have pi = 4 * Area.\n",
    "    pi_approx = 4 * number_of_darts_in_circle / float(number_of_darts)\n",
    "    \n",
    "    # Return the values we want to plot\n",
    "    return execution_time, number_of_darts/execution_time\n",
    "\n",
    "\n",
    "# Function being pulled into the pool is defined before the cell that utilizes 'pool'\n",
    "# This function simulates the dar throwing. For each dart, find a random position\n",
    "# in the unit square for it to fall. Test if it falls within the circle by\n",
    "# calculating the distance from the origin (0.5, 0.5) to the dart. Darts that\n",
    "# fall within 0.5 of the origin are within the circle.\n",
    "# Darts within the circle return a '1,' or a 'hit'. Darts outside of the circle return a 'None' and are\n",
    "# not counted. \n",
    "\n",
    "def findpi(number):\n",
    "    x, y = uniform(0, 1), uniform(0, 1)\n",
    "    if sqrt((x - 0.5)**2 + (y - 0.5)**2) <= 0.5:\n",
    "        return 1\n",
    "\n",
    "# Multiprocessing Function: \n",
    "\n",
    "def multiprocess(N):\n",
    "    # Start 4 worker processes \n",
    "    pool = Pool(processes = 4)\n",
    "\n",
    "    # Re-define the number of darts used in the code copied above\n",
    "    # Begin with 0 darts in the circle\n",
    "\n",
    "    number_of_darts = int(N)\n",
    "    number_of_darts_in_circle = 0\n",
    "    start_time = time()\n",
    "\n",
    "    # pool.map() calls the function defined in the previous cell, and loops over it 'number_of_darts' times. \n",
    "\n",
    "    bingo = pool.map(findpi, range(number_of_darts))\n",
    "\n",
    "    # Convert the pool.map() into an array\n",
    "\n",
    "    bingo = np.array(bingo)\n",
    "\n",
    "    # Take the length of the array where 'bingo' = 1 (i.e. when a dart hits the circle) to determine the number\n",
    "    # of times a dart actually hits the circle\n",
    "\n",
    "    number_of_darts_in_circle = len(bingo[bingo == 1])\n",
    "\n",
    "    # Mark end time and time it took for the process to complete.\n",
    "    end_time = time()\n",
    "    execution_time = end_time - start_time\n",
    "\n",
    "    # Calculate estimation of pi.\n",
    "    pi_approx = 4 * number_of_darts_in_circle / float(number_of_darts)\n",
    "    \n",
    "    # Return the values we want to plot\n",
    "    return execution_time, number_of_darts/execution_time\n",
    "\n",
    "\n",
    "\n",
    "# Define function that counts the number of darts that hits within the circle for each chunk. Return this number.\n",
    "# Ipyparallel requires us to import modules into the function itself.\n",
    "# This will be used in the parallel function\n",
    "\n",
    "def findpi_parallel(attempt_number, darts_in_group):\n",
    "    import numpy as np\n",
    "    int_darts = darts_in_group\n",
    "    counter = 0\n",
    "    for i in range(int(int_darts)):\n",
    "        x, y = np.random.uniform(0, 1), np.random.uniform(0, 1)\n",
    "        if np.sqrt((x - 0.5)**2 + (y - 0.5)**2) <= 0.5:\n",
    "            counter += 1\n",
    "    return counter\n",
    "\n",
    "# This is the function for the ipyparallel method.\n",
    "def parallel(N):\n",
    "    \n",
    "    # Define the total number of darts that will be thrown. We will break this into 10 chunks to optimize the code in\n",
    "    # parallel.\n",
    "    number_of_darts = int(N)\n",
    "    groups_of_darts = np.full_like(np.ndarray(shape=10), number_of_darts/10)\n",
    "    \n",
    "    # Define the number of chunks holding the darts. Each chunk is then run in parallel.\n",
    "    num_of_groups = 10\n",
    "\n",
    "    number_of_darts_in_circle = 0\n",
    "    start_time = time()\n",
    "    \n",
    "    # Make the code asynchronous with the 'block = False' prompt. \n",
    "    # Loop through the fucntion 'findpi_parallel' number_of_darts times by using the correct client/number\n",
    "    # of sockets defined in rc = Client() and lb_view = rc.load_balanced_view()\n",
    "    \n",
    "    bingo = lb_view.map(findpi_parallel, range(num_of_groups), groups_of_darts, block=False)\n",
    "    number_of_darts_in_circle = int(sum(bingo.get()))\n",
    "\n",
    "    # Mark end time and time it took for the process to complete.\n",
    "    end_time = time()\n",
    "    execution_time = end_time - start_time\n",
    "\n",
    "    # Calculate estimation of pi.\n",
    "    pi_approx = 4 * number_of_darts_in_circle / float(number_of_darts)\n",
    "    \n",
    "    # Return the values we want to plot\n",
    "    return execution_time, number_of_darts/execution_time"
   ]
  },
  {
   "cell_type": "code",
   "execution_count": 3,
   "metadata": {
    "collapsed": true
   },
   "outputs": [],
   "source": [
    "# Create a log array in order to exponentially increase the number of darts thrown, beginning at 1e1 and\n",
    "# ending at 1e7 in increments of 10\n",
    "\n",
    "darts = np.logspace(1, 7, 10)\n",
    "\n",
    "# Serial method time and rate arrays.\n",
    "serial_time = np.zeros(len(darts))\n",
    "serial_rate = np.zeros(len(darts))\n",
    "\n",
    "# Multiprocessing method time and rate arrays.\n",
    "multiproccess_time = np.zeros(len(darts))\n",
    "multiproccess_rate = np.zeros(len(darts))\n",
    "\n",
    "# Parallel method time and rate arrays.\n",
    "parallel_time = np.zeros(len(darts))\n",
    "parallel_rate = np.zeros(len(darts))"
   ]
  },
  {
   "cell_type": "code",
   "execution_count": 4,
   "metadata": {},
   "outputs": [
    {
     "name": "stdout",
     "output_type": "stream",
     "text": [
      "Currently tossing 10 darts\n",
      "Currently tossing 46 darts\n",
      "Currently tossing 215 darts\n",
      "Currently tossing 1000 darts\n",
      "Currently tossing 4641 darts\n",
      "Currently tossing 21544 darts\n",
      "Currently tossing 100000 darts\n",
      "Currently tossing 464158 darts\n",
      "Currently tossing 2154434 darts\n",
      "Currently tossing 10000000 darts\n"
     ]
    }
   ],
   "source": [
    "for i in range(len(darts)):\n",
    "    serial_time[i], serial_rate[i] = serial(darts[i])\n",
    "    multiproccess_time[i], multiproccess_rate[i] = multiprocess(darts[i])\n",
    "    parallel_time[i], parallel_rate[i] = parallel(darts[i])\n",
    "    print(\"Currently tossing\", int(darts[i]), \"darts\")"
   ]
  },
  {
   "cell_type": "code",
   "execution_count": 27,
   "metadata": {},
   "outputs": [
    {
     "data": {
      "image/png": "[encoded data removed]",
      "text/plain": [
       "<matplotlib.figure.Figure at 0x11d458390>"
      ]
     },
     "metadata": {},
     "output_type": "display_data"
    }
   ],
   "source": [
    "# Plotting the darts per each type of run \n",
    "\n",
    "import matplotlib.pyplot as plt\n",
    "% matplotlib inline\n",
    "from matplotlib import rcParams\n",
    "rcParams['text.usetex'] = True\n",
    "rcParams['axes.labelsize'] = 16\n",
    "rcParams['xtick.labelsize'] = 16\n",
    "rcParams['ytick.labelsize'] = 16\n",
    "rcParams['legend.fontsize'] = 16\n",
    "\n",
    "fig, ax1 = plt.subplots(figsize = (12,7))\n",
    "plt.title(r'MacBook Pro with 2.9 GHz Intel Core i7, 4 ``cores\"', fontsize = 20)\n",
    "\n",
    "serial, = ax1.plot(darts, serial_time, linewidth=3, label='Simple', color='red')\n",
    "multiprocess, = ax1.plot(darts, multiproccess_time, linewidth=3, label='Multiprocessing', color='cyan')\n",
    "ipcluster, = ax1.plot(darts, parallel_time, linewidth=3, label='IPcluster', color='green')\n",
    "\n",
    "ax1.set_xscale('log')\n",
    "ax1.set_yscale('log')\n",
    "ax1.set_xlim([1e1, 1e7])\n",
    "ax1.set_ylim([1e-5, 1e1])\n",
    "ax1.set_xlabel('Darts Thrown', fontsize=16)\n",
    "ax1.set_ylabel('Execution Time (seconds), solid line', fontsize=16)\n",
    "ax1.get_xaxis().set_tick_params(which = 'major', direction='in')\n",
    "ax1.get_xaxis().set_tick_params(which = 'minor', direction='in')\n",
    "ax1.get_yaxis().set_tick_params(which = 'major', direction='in')\n",
    "ax1.get_yaxis().set_tick_params(which = 'minor', direction='in')\n",
    "ax1.tick_params(labelsize=12)\n",
    "\n",
    "ax2 = ax1.twinx()\n",
    "ax2.plot(darts, serial_rate, linewidth=2, linestyle='--',  color='red')\n",
    "ax2.plot(darts, multiproccess_rate, linewidth=2, linestyle='--', color='cyan')\n",
    "ax2.plot(darts, parallel_rate, linewidth=2, linestyle='--', color='green')\n",
    "\n",
    "ax2.tick_params('y')\n",
    "ax2.set_yscale('log')\n",
    "ax2.set_ylim([1e2, 1e7])\n",
    "ax2.set_ylabel('Simulation Rate (darts/second), dashed line', fontsize = 16)\n",
    "ax2.get_yaxis().set_tick_params(which = 'major', direction='in')\n",
    "ax2.get_yaxis().set_tick_params(which = 'minor', direction='in')\n",
    "ax2.tick_params(labelsize=12)\n",
    "\n",
    "plt.legend(loc=2, fontsize=16, handles=[serial, multiprocess, ipcluster])\n",
    "plt.tight_layout()\n",
    "plt.show()"
   ]
  },
  {
   "cell_type": "code",
   "execution_count": null,
   "metadata": {
    "collapsed": true
   },
   "outputs": [],
   "source": []
  }
 ],
 "metadata": {
  "kernelspec": {
   "display_name": "Python 3",
   "language": "python",
   "name": "python3"
  },
  "language_info": {
   "codemirror_mode": {
    "name": "ipython",
    "version": 3
   },
   "file_extension": ".py",
   "mimetype": "text/x-python",
   "name": "python",
   "nbconvert_exporter": "python",
   "pygments_lexer": "ipython3",
   "version": "3.6.3"
  }
 },
 "nbformat": 4,
 "nbformat_minor": 2
}
