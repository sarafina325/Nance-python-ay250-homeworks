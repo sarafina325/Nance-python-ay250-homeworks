{
 "cells": [
  {
   "cell_type": "markdown",
   "metadata": {},
   "source": [
    "TEST"
   ]
  },
  {
   "cell_type": "code",
   "execution_count": 1,
   "metadata": {},
   "outputs": [
    {
     "name": "stdout",
     "output_type": "stream",
     "text": [
      "Populating the interactive namespace from numpy and matplotlib\n"
     ]
    }
   ],
   "source": [
    "import sys\n",
    "sys.path.append('..')\n",
    "%load_ext autoreload\n",
    "%autoreload 2\n",
    "%pylab inline"
   ]
  },
  {
   "cell_type": "code",
   "execution_count": 30,
   "metadata": {
    "collapsed": true
   },
   "outputs": [],
   "source": [
    "n_images = 1000\n",
    "n_test = int(n_images/5)\n",
    "n_train = int(n_images)*2"
   ]
  },
  {
   "cell_type": "code",
   "execution_count": 31,
   "metadata": {},
   "outputs": [
    {
     "name": "stdout",
     "output_type": "stream",
     "text": [
      "Done !\n",
      "Done !\n"
     ]
    }
   ],
   "source": [
    "import numpy as np\n",
    "import os\n",
    "\n",
    "image_width = 45\n",
    "image_height = 45\n",
    "\n",
    "images = np.empty(shape=[0,image_width,image_height])\n",
    "images2 = np.empty(shape=[0,image_width,image_height])\n",
    "\n",
    "from astropy.io import fits\n",
    "from astropy.utils.data import get_pkg_data_filename\n",
    "\n",
    "filename = os.listdir(os.getcwd()+\"/data_of_lsst/lsst_mocks_single/lensed_outputs/0\")\n",
    "filename2 = os.listdir(os.getcwd()+\"/data_of_lsst/lsst_mocks_single/unlensed_outputs/0\")\n",
    "\n",
    "for file in filename[:n_images]:\n",
    "    if not file.startswith('.'):\n",
    "        try:\n",
    "            image_file = get_pkg_data_filename(\"data_of_lsst/lsst_mocks_single/lensed_outputs/0/\" + file)\n",
    "            image_data = fits.getdata(image_file, ext=0, ignore_missing_end=True, padding=False)\n",
    "            images = np.concatenate((images, [image_data]))\n",
    "        except OSError as err:\n",
    "            print('This file sucks %s' % (image_file))\n",
    "\n",
    "            \n",
    "print (\"Done !\")\n",
    "\n",
    "for file in filename2[:n_images]:\n",
    "    if not file.startswith('.'):\n",
    "        try:\n",
    "            image_file = get_pkg_data_filename(\"data_of_lsst/lsst_mocks_single/unlensed_outputs/0/\" + file)\n",
    "            image_data = fits.getdata(image_file, ext=0, ignore_missing_end=True, padding=False)\n",
    "            images2 = np.concatenate((images2, [image_data]))\n",
    "        except OSError as err:\n",
    "            print('This file sucks %s' % (image_file))\n",
    "\n",
    "print (\"Done !\")\n",
    "\n",
    "lensed_output_0 = images\n",
    "unlensed_output_0 = images2"
   ]
  },
  {
   "cell_type": "markdown",
   "metadata": {},
   "source": [
    "Creating training and validation sets"
   ]
  },
  {
   "cell_type": "code",
   "execution_count": 32,
   "metadata": {},
   "outputs": [],
   "source": [
    "# Remove 'nan' from datasets\n",
    "lensed_output_0 = np.where(np.isfinite(lensed_output_0), lensed_output_0, 0)\n",
    "unlensed_output_0 = np.where(np.isfinite(unlensed_output_0), lensed_output_0, 0)"
   ]
  },
  {
   "cell_type": "code",
   "execution_count": 77,
   "metadata": {},
   "outputs": [
    {
     "name": "stdout",
     "output_type": "stream",
     "text": [
      "(2000, 45, 45)\n"
     ]
    }
   ],
   "source": [
    "import random \n",
    "from keras.utils import np_utils\n",
    "\n",
    "# set aside data for testing\n",
    "training_data= np.concatenate((lensed_output_0, unlensed_output_0), axis=0)\n",
    "# testing labels\n",
    "training_labels = np.concatenate((np.ones(n_images), np.zeros(n_images)), axis=0)\n",
    "\n",
    "combined = list(zip(training_data,training_labels))\n",
    "random.shuffle(combined)\n",
    "training_data, training_labels = zip(*combined)\n",
    "training_data = np.array(training_data)\n",
    "training_labels = np.array(training_labels)\n",
    "\n",
    "X_train = training_data[:int(n_images)*2]\n",
    "y_train = training_labels[:int(n_images)*2]\n",
    "X_test = training_data[1600:n_train]\n",
    "y_test = training_labels[1600:n_train]"
   ]
  },
  {
   "cell_type": "code",
   "execution_count": 34,
   "metadata": {},
   "outputs": [],
   "source": [
    "# We use the full set for training,\n",
    "# as we can test on the independent challenge testing set\n",
    "x = X_train.reshape((-1,1,45,45))\n",
    "y = y_train.reshape((-1,1))\n",
    "# [Warning: We reuse the training set as our validation set,\n",
    "# don't do that if you don't have an independent testing set]\n",
    "xval = X_test.reshape((-1,1, 45, 45))\n",
    "yval = y_test.reshape((-1,1))"
   ]
  },
  {
   "cell_type": "code",
   "execution_count": 35,
   "metadata": {
    "collapsed": true
   },
   "outputs": [],
   "source": [
    "# Clipping and scaling parameters applied to the data as preprocessing\n",
    "vmin=-1e-9\n",
    "vmax=1e-9\n",
    "scale=100\n",
    "\n",
    "mask = np.where(x == 100)\n",
    "mask_val = np.where(xval == 100)\n",
    "\n",
    "x[mask] = 0\n",
    "xval[mask_val] = 0\n",
    "\n",
    "# Simple clipping and rescaling the images\n",
    "x = np.clip(x, vmin, vmax)/vmax * scale\n",
    "xval = np.clip(xval, vmin, vmax)/vmax * scale \n",
    "\n",
    "x[mask] = 0\n",
    "xval[mask_val] = 0"
   ]
  },
  {
   "cell_type": "code",
   "execution_count": 36,
   "metadata": {},
   "outputs": [
    {
     "data": {
      "text/plain": [
       "<matplotlib.colorbar.Colorbar at 0x10efd1dd8>"
      ]
     },
     "execution_count": 36,
     "metadata": {},
     "output_type": "execute_result"
    },
    {
     "data": {
      "image/png": "[encoded data removed]",
      "text/plain": [
       "<matplotlib.figure.Figure at 0x1c433807b8>"
      ]
     },
     "metadata": {},
     "output_type": "display_data"
    }
   ],
   "source": [
    "import matplotlib.pyplot as plt\n",
    "\n",
    "#Illustration of a lens\n",
    "im = x[0].T\n",
    "plt.subplot(221)\n",
    "plt.imshow(im[:,:,0]); plt.colorbar()"
   ]
  },
  {
   "cell_type": "markdown",
   "metadata": {},
   "source": [
    "# Using the Residual Neural Network"
   ]
  },
  {
   "cell_type": "code",
   "execution_count": 37,
   "metadata": {
    "collapsed": true
   },
   "outputs": [],
   "source": [
    "import sys\n",
    "sys.path.append('/Users/sarafinanance/Desktop/CMUDeepLens_master')\n",
    "\n",
    "from deeplens.resnet_classifier import deeplens_classifier\n",
    "# reload(sys.modules['deeplens.resnet_classifier'])"
   ]
  },
  {
   "cell_type": "code",
   "execution_count": 38,
   "metadata": {
    "collapsed": true
   },
   "outputs": [],
   "source": [
    "model = deeplens_classifier(learning_rate=0.0001,  # Initial learning rate\n",
    "                          learning_rate_steps=3,  # Number of learning rate updates during training\n",
    "                          learning_rate_drop=0.001, # Amount by which the learning rate is updated\n",
    "                          batch_size=128,         # Size of the mini-batch\n",
    "                          n_epochs=50)           # Number of epochs for training"
   ]
  },
  {
   "cell_type": "code",
   "execution_count": 39,
   "metadata": {},
   "outputs": [
    {
     "name": "stdout",
     "output_type": "stream",
     "text": [
      "Starting Epoch : 0\n",
      "Epoch took 192.416715 s\n",
      "Starting Epoch : 1\n",
      "Epoch took 200.011781 s\n",
      "Starting Epoch : 2\n",
      "Epoch took 184.012765 s\n",
      "Starting Epoch : 3\n",
      "Epoch took 185.625538 s\n",
      "Starting Epoch : 4\n",
      "Epoch took 183.853369 s\n",
      "Starting Epoch : 5\n",
      "Iteration : 75 -> [Validation] Purity: 0.516667 ; Completeness: 0.308458\n",
      "Iteration : 75 -> [Training] Purity: 0.444444 ; Completeness: 0.261307\n",
      "Epoch took 189.568061 s\n",
      "Starting Epoch : 6\n",
      "Iteration : 100 -> Training loss: 0.752291\n",
      "Epoch took 182.558314 s\n",
      "Starting Epoch : 7\n",
      "Epoch took 181.496722 s\n",
      "Starting Epoch : 8\n",
      "Epoch took 2362.215709 s\n",
      "Starting Epoch : 9\n",
      "Epoch took 255.048229 s\n",
      "Starting Epoch : 10\n",
      "Iteration : 150 -> [Validation] Purity: 0.506276 ; Completeness: 0.601990\n",
      "Iteration : 150 -> [Training] Purity: 0.524664 ; Completeness: 0.587940\n",
      "Epoch took 260.884033 s\n",
      "Starting Epoch : 11\n",
      "Epoch took 261.792219 s\n",
      "Starting Epoch : 12\n",
      "Epoch took 262.563079 s\n",
      "Starting Epoch : 13\n",
      "Iteration : 200 -> Training loss: 0.724652\n",
      "Epoch took 261.970967 s\n",
      "Starting Epoch : 14\n",
      "Epoch took 262.320526 s\n",
      "Starting Epoch : 15\n",
      "Iteration : 225 -> [Validation] Purity: 0.447552 ; Completeness: 0.318408\n",
      "Iteration : 225 -> [Training] Purity: 0.477273 ; Completeness: 0.316583\n",
      "Epoch took 7463.704840 s\n",
      "Starting Epoch : 16\n",
      "Epoch took 260.468564 s\n",
      "Starting Epoch : 17\n",
      "Epoch took 261.917486 s\n",
      "Starting Epoch : 18\n",
      "Epoch took 262.415254 s\n",
      "Starting Epoch : 19\n",
      "Iteration : 300 -> Training loss: 0.721832\n",
      "Epoch took 263.893091 s\n",
      "Starting Epoch : 20\n",
      "Iteration : 300 -> [Validation] Purity: 0.518018 ; Completeness: 0.572139\n",
      "Iteration : 300 -> [Training] Purity: 0.512821 ; Completeness: 0.502513\n",
      "Epoch took 262.979832 s\n",
      "Starting Epoch : 21\n",
      "Epoch took 1715.378327 s\n",
      "Starting Epoch : 22\n",
      "Epoch took 262.999315 s\n",
      "Starting Epoch : 23\n",
      "Epoch took 262.148316 s\n",
      "Starting Epoch : 24\n",
      "Epoch took 260.653285 s\n",
      "Starting Epoch : 25\n",
      "Iteration : 375 -> [Validation] Purity: 0.511628 ; Completeness: 0.875622\n",
      "Iteration : 375 -> [Training] Purity: 0.504587 ; Completeness: 0.829146\n",
      "Epoch took 261.317655 s\n",
      "Starting Epoch : 26\n",
      "Iteration : 400 -> Training loss: 0.718699\n",
      "Epoch took 262.083791 s\n",
      "Starting Epoch : 27\n",
      "Epoch took 263.309950 s\n",
      "Starting Epoch : 28\n",
      "Epoch took 1960.545861 s\n",
      "Starting Epoch : 29\n",
      "Epoch took 1108.005136 s\n",
      "Starting Epoch : 30\n",
      "Iteration : 450 -> [Validation] Purity: 0.489362 ; Completeness: 0.343284\n",
      "Iteration : 450 -> [Training] Purity: 0.561224 ; Completeness: 0.276382\n",
      "Epoch took 184.074674 s\n",
      "Starting Epoch : 31\n",
      "Epoch took 188.827480 s\n",
      "Starting Epoch : 32\n",
      "Epoch took 195.694551 s\n",
      "Starting Epoch : 33\n",
      "Iteration : 500 -> Training loss: 0.716910\n",
      "Epoch took 197.686921 s\n",
      "Starting Epoch : 34\n",
      "Epoch took 191.781608 s\n",
      "Starting Epoch : 35\n",
      "Iteration : 525 -> [Validation] Purity: 0.502110 ; Completeness: 0.592040\n",
      "Iteration : 525 -> [Training] Purity: 0.543689 ; Completeness: 0.562814\n",
      "Epoch took 192.212701 s\n",
      "Starting Epoch : 36\n",
      "Epoch took 193.696231 s\n",
      "Starting Epoch : 37\n",
      "Epoch took 191.767761 s\n",
      "Starting Epoch : 38\n",
      "Epoch took 193.008859 s\n",
      "Starting Epoch : 39\n",
      "Iteration : 600 -> Training loss: 0.710696\n",
      "Epoch took 194.860225 s\n",
      "Starting Epoch : 40\n",
      "Iteration : 600 -> [Validation] Purity: 0.513109 ; Completeness: 0.681592\n",
      "Iteration : 600 -> [Training] Purity: 0.485477 ; Completeness: 0.587940\n",
      "Epoch took 200.073564 s\n",
      "Starting Epoch : 41\n",
      "Epoch took 206.622092 s\n",
      "Starting Epoch : 42\n",
      "Epoch took 197.847718 s\n",
      "Starting Epoch : 43\n",
      "Epoch took 202.846676 s\n",
      "Starting Epoch : 44\n",
      "Epoch took 184.605846 s\n",
      "Starting Epoch : 45\n",
      "Iteration : 675 -> [Validation] Purity: 0.484716 ; Completeness: 0.552239\n",
      "Iteration : 675 -> [Training] Purity: 0.504505 ; Completeness: 0.562814\n",
      "Epoch took 210.730516 s\n",
      "Starting Epoch : 46\n",
      "Iteration : 700 -> Training loss: 0.712536\n",
      "Epoch took 210.659711 s\n",
      "Starting Epoch : 47\n",
      "Epoch took 210.698466 s\n",
      "Starting Epoch : 48\n",
      "Epoch took 199.612112 s\n",
      "Starting Epoch : 49\n",
      "Epoch took 206.316503 s\n"
     ]
    },
    {
     "data": {
      "text/plain": [
       "deeplens_classifier()"
      ]
     },
     "execution_count": 39,
     "metadata": {},
     "output_type": "execute_result"
    }
   ],
   "source": [
    "model.fit(x,y,xval,yval) # Train the model, the validation set is provided for evaluation of the model"
   ]
  },
  {
   "cell_type": "code",
   "execution_count": 40,
   "metadata": {},
   "outputs": [
    {
     "name": "stdout",
     "output_type": "stream",
     "text": [
      "saving to deeplens_params.npy...\n"
     ]
    }
   ],
   "source": [
    "# Saving the model parameters\n",
    "model.save('deeplens_params.npy')"
   ]
  },
  {
   "cell_type": "code",
   "execution_count": 41,
   "metadata": {},
   "outputs": [
    {
     "data": {
      "text/plain": [
       "(0.51914895, 0.6069652)"
      ]
     },
     "execution_count": 41,
     "metadata": {},
     "output_type": "execute_result"
    }
   ],
   "source": [
    "# Completeness and purity evaluated on the training set [Warning: not very meaningful]\n",
    "model.eval_purity_completeness(xval,yval)"
   ]
  },
  {
   "cell_type": "code",
   "execution_count": 42,
   "metadata": {},
   "outputs": [
    {
     "data": {
      "image/png": "[encoded data removed]",
      "text/plain": [
       "<matplotlib.figure.Figure at 0x1c46128080>"
      ]
     },
     "metadata": {},
     "output_type": "display_data"
    }
   ],
   "source": [
    "# Plot ROC curve on the training set [Warning: not very meaningful]\n",
    "tpr,fpr,th = model.eval_ROC(xval,yval)\n",
    "plt.title('ROC on Training set')\n",
    "plt.plot(fpr,tpr)\n",
    "plt.xlabel('FPR'); plt.ylabel('TPR')\n",
    "plt.xlim(0,1.0); plt.ylim(0.0,1.)\n",
    "plt.grid('on')"
   ]
  },
  {
   "cell_type": "code",
   "execution_count": null,
   "metadata": {
    "collapsed": true
   },
   "outputs": [],
   "source": []
  }
 ],
 "metadata": {
  "kernelspec": {
   "display_name": "Python 3",
   "language": "python",
   "name": "python3"
  },
  "language_info": {
   "codemirror_mode": {
    "name": "ipython",
    "version": 3
   },
   "file_extension": ".py",
   "mimetype": "text/x-python",
   "name": "python",
   "nbconvert_exporter": "python",
   "pygments_lexer": "ipython3",
   "version": "3.6.3"
  }
 },
 "nbformat": 4,
 "nbformat_minor": 2
}
