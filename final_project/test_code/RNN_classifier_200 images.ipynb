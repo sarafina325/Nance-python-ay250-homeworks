{
 "cells": [
  {
   "cell_type": "markdown",
   "metadata": {},
   "source": [
    "TEST"
   ]
  },
  {
   "cell_type": "code",
   "execution_count": 1,
   "metadata": {
    "collapsed": true
   },
   "outputs": [],
   "source": [
    "n_images = 100\n",
    "n_test = int(n_images/5)\n",
    "# n_train = int(n_images*(0.8))*2\n",
    "n_train = int(n_images)*2"
   ]
  },
  {
   "cell_type": "code",
   "execution_count": 2,
   "metadata": {},
   "outputs": [
    {
     "name": "stdout",
     "output_type": "stream",
     "text": [
      "Done !\n",
      "Done !\n"
     ]
    }
   ],
   "source": [
    "import numpy as np\n",
    "import os\n",
    "\n",
    "image_width = 45\n",
    "image_height = 45\n",
    "\n",
    "images = np.empty(shape=[0,image_width,image_height])\n",
    "images2 = np.empty(shape=[0,image_width,image_height])\n",
    "\n",
    "from astropy.io import fits\n",
    "from astropy.utils.data import get_pkg_data_filename\n",
    "\n",
    "filename = os.listdir(os.getcwd()+\"/data_of_lsst/lsst_mocks_single/lensed_outputs/0\")\n",
    "filename2 = os.listdir(os.getcwd()+\"/data_of_lsst/lsst_mocks_single/unlensed_outputs/0\")\n",
    "\n",
    "for file in filename[:n_images]:\n",
    "    if not file.startswith('.'):\n",
    "        try:\n",
    "            image_file = get_pkg_data_filename(\"data_of_lsst/lsst_mocks_single/lensed_outputs/0/\" + file)\n",
    "            image_data = fits.getdata(image_file, ext=0, ignore_missing_end=True, padding=False)\n",
    "            images = np.concatenate((images, [image_data]))\n",
    "        except OSError as err:\n",
    "            print('This file sucks %s' % (image_file))\n",
    "\n",
    "            \n",
    "print (\"Done !\")\n",
    "\n",
    "for file in filename2[:n_images]:\n",
    "    if not file.startswith('.'):\n",
    "        try:\n",
    "            image_file = get_pkg_data_filename(\"data_of_lsst/lsst_mocks_single/unlensed_outputs/0/\" + file)\n",
    "            image_data = fits.getdata(image_file, ext=0, ignore_missing_end=True, padding=False)\n",
    "            images2 = np.concatenate((images2, [image_data]))\n",
    "        except OSError as err:\n",
    "            print('This file sucks %s' % (image_file))\n",
    "\n",
    "print (\"Done !\")\n",
    "\n",
    "lensed_output_0 = images\n",
    "unlensed_output_0 = images2"
   ]
  },
  {
   "cell_type": "markdown",
   "metadata": {},
   "source": [
    "Creating training and validation sets"
   ]
  },
  {
   "cell_type": "code",
   "execution_count": 3,
   "metadata": {},
   "outputs": [
    {
     "name": "stderr",
     "output_type": "stream",
     "text": [
      "/Users/sarafinanance/anaconda/envs/datascience/lib/python3.6/site-packages/h5py/__init__.py:36: FutureWarning: Conversion of the second argument of issubdtype from `float` to `np.floating` is deprecated. In future, it will be treated as `np.float64 == np.dtype(float).type`.\n",
      "  from ._conv import register_converters as _register_converters\n",
      "Using TensorFlow backend.\n"
     ]
    }
   ],
   "source": [
    "import random \n",
    "from keras.utils import np_utils\n",
    "\n",
    "# set aside data for testing\n",
    "training_data= np.concatenate((lensed_output_0, unlensed_output_0), axis=0)\n",
    "# testing labels\n",
    "training_labels = np.concatenate((np.ones(n_images), np.zeros(n_images)), axis=0)\n",
    "\n",
    "combined = list(zip(training_data,training_labels))\n",
    "random.shuffle(combined)\n",
    "training_data, training_labels = zip(*combined)\n",
    "training_data = np.array(training_data)\n",
    "training_labels = np.array(training_labels)\n",
    "\n",
    "# X_train = training_data[:n_train]\n",
    "# y_train = training_labels[:n_train]\n",
    "# X_test = training_data[n_train:]\n",
    "# y_test = training_labels[n_train:]\n",
    "\n",
    "X_train = training_data[:int(n_images)*2]\n",
    "y_train = training_labels[:int(n_images)*2]\n",
    "X_test = training_data[160:n_train]\n",
    "y_test = training_labels[160:n_train]\n"
   ]
  },
  {
   "cell_type": "code",
   "execution_count": 4,
   "metadata": {},
   "outputs": [],
   "source": [
    "# We use the full set for training,\n",
    "# as we can test on the independent challenge testing set\n",
    "x = X_train.reshape((-1,1,45,45))\n",
    "y = y_train.reshape((-1,1))\n",
    "# [Warning: We reuse the training set as our validation set,\n",
    "# don't do that if you don't have an independent testing set]\n",
    "xval = X_test.reshape((-1,1, 45, 45))\n",
    "yval = y_test.reshape((-1,1))"
   ]
  },
  {
   "cell_type": "code",
   "execution_count": 5,
   "metadata": {},
   "outputs": [],
   "source": [
    "# Clipping and scaling parameters applied to the data as preprocessing\n",
    "vmin=-1e-9\n",
    "vmax=1e-9\n",
    "scale=100\n",
    "\n",
    "mask = np.where(x == 100)\n",
    "mask_val = np.where(xval == 100)\n",
    "\n",
    "x[mask] = 0\n",
    "xval[mask_val] = 0\n",
    "\n",
    "# Simple clipping and rescaling the images\n",
    "x = np.clip(x, vmin, vmax)/vmax * scale\n",
    "xval = np.clip(xval, vmin, vmax)/vmax * scale \n",
    "\n",
    "x[mask] = 0\n",
    "xval[mask_val] = 0"
   ]
  },
  {
   "cell_type": "code",
   "execution_count": 9,
   "metadata": {},
   "outputs": [
    {
     "data": {
      "text/plain": [
       "<matplotlib.colorbar.Colorbar at 0x111539940>"
      ]
     },
     "execution_count": 9,
     "metadata": {},
     "output_type": "execute_result"
    },
    {
     "data": {
      "image/png": "[encoded data removed]",
      "text/plain": [
       "<matplotlib.figure.Figure at 0x1114bab00>"
      ]
     },
     "metadata": {},
     "output_type": "display_data"
    }
   ],
   "source": [
    "import matplotlib.pyplot as plt\n",
    "\n",
    "#Illustration of a lens\n",
    "plt.im = x[0].T\n",
    "plt.subplot(221)\n",
    "plt.imshow(im[:,:,0]); plt.colorbar()"
   ]
  },
  {
   "cell_type": "markdown",
   "metadata": {},
   "source": [
    "# Using the Residual Neural Network"
   ]
  },
  {
   "cell_type": "code",
   "execution_count": 10,
   "metadata": {},
   "outputs": [],
   "source": [
    "import sys\n",
    "sys.path.append('/Users/sarafinanance/Desktop/CMUDeepLens_master')\n",
    "\n",
    "from deeplens.resnet_classifier import deeplens_classifier\n",
    "# reload(sys.modules['deeplens.resnet_classifier'])"
   ]
  },
  {
   "cell_type": "code",
   "execution_count": 11,
   "metadata": {},
   "outputs": [],
   "source": [
    "model = deeplens_classifier(learning_rate=0.0001,  # Initial learning rate\n",
    "                          learning_rate_steps=3,  # Number of learning rate updates during training\n",
    "                          learning_rate_drop=0.1, # Amount by which the learning rate is updated\n",
    "                          batch_size=128,         # Size of the mini-batch\n",
    "                          n_epochs=50)           # Number of epochs for training"
   ]
  },
  {
   "cell_type": "code",
   "execution_count": 12,
   "metadata": {},
   "outputs": [
    {
     "name": "stdout",
     "output_type": "stream",
     "text": [
      "Starting Epoch : 0\n",
      "Epoch took 11.960147 s\n",
      "Starting Epoch : 1\n",
      "Epoch took 11.963407 s\n",
      "Starting Epoch : 2\n",
      "Epoch took 12.150538 s\n",
      "Starting Epoch : 3\n",
      "Epoch took 12.022912 s\n",
      "Starting Epoch : 4\n",
      "Epoch took 11.981912 s\n",
      "Starting Epoch : 5\n",
      "Iteration : 5 -> [Validation] Purity: 0.500000 ; Completeness: 1.000000\n",
      "Iteration : 5 -> [Training] Purity: 0.583333 ; Completeness: 0.913043\n",
      "Epoch took 11.966722 s\n",
      "Starting Epoch : 6\n",
      "Epoch took 12.094708 s\n",
      "Starting Epoch : 7\n",
      "Epoch took 13.025861 s\n",
      "Starting Epoch : 8\n",
      "Epoch took 12.049947 s\n",
      "Starting Epoch : 9\n",
      "Epoch took 11.912724 s\n",
      "Starting Epoch : 10\n",
      "Iteration : 10 -> [Validation] Purity: 0.500000 ; Completeness: 0.052632\n",
      "Iteration : 10 -> [Training] Purity: nan ; Completeness: 0.000000\n",
      "Epoch took 12.681022 s\n",
      "Starting Epoch : 11\n",
      "Epoch took 12.424039 s\n",
      "Starting Epoch : 12\n",
      "Epoch took 11.846880 s\n",
      "Starting Epoch : 13\n",
      "Epoch took 13.162629 s\n",
      "Starting Epoch : 14\n",
      "Epoch took 12.135370 s\n",
      "Starting Epoch : 15\n",
      "Iteration : 15 -> [Validation] Purity: 0.500000 ; Completeness: 0.052632\n",
      "Iteration : 15 -> [Training] Purity: 0.500000 ; Completeness: 0.043478\n",
      "Epoch took 12.074498 s\n",
      "Starting Epoch : 16\n",
      "Epoch took 12.046034 s\n",
      "Starting Epoch : 17\n",
      "Epoch took 11.991772 s\n",
      "Starting Epoch : 18\n",
      "Epoch took 11.603658 s\n",
      "Starting Epoch : 19\n",
      "Epoch took 11.583287 s\n",
      "Starting Epoch : 20\n",
      "Iteration : 20 -> [Validation] Purity: 0.538462 ; Completeness: 0.368421\n",
      "Iteration : 20 -> [Training] Purity: 0.444444 ; Completeness: 0.173913\n",
      "Epoch took 12.020403 s\n",
      "Starting Epoch : 21\n",
      "Epoch took 12.073464 s\n",
      "Starting Epoch : 22\n",
      "Epoch took 11.818207 s\n",
      "Starting Epoch : 23\n",
      "Epoch took 12.230577 s\n",
      "Starting Epoch : 24\n",
      "Epoch took 12.003733 s\n",
      "Starting Epoch : 25\n",
      "Iteration : 25 -> [Validation] Purity: 0.625000 ; Completeness: 0.263158\n",
      "Iteration : 25 -> [Training] Purity: 0.428571 ; Completeness: 0.130435\n",
      "Epoch took 11.982628 s\n",
      "Starting Epoch : 26\n",
      "Epoch took 11.455111 s\n",
      "Starting Epoch : 27\n",
      "Epoch took 12.507960 s\n",
      "Starting Epoch : 28\n",
      "Epoch took 12.312449 s\n",
      "Starting Epoch : 29\n",
      "Epoch took 12.724867 s\n",
      "Starting Epoch : 30\n",
      "Iteration : 30 -> [Validation] Purity: 0.250000 ; Completeness: 0.052632\n",
      "Iteration : 30 -> [Training] Purity: 1.000000 ; Completeness: 0.086957\n",
      "Epoch took 12.068457 s\n",
      "Starting Epoch : 31\n",
      "Epoch took 12.284740 s\n",
      "Starting Epoch : 32\n",
      "Epoch took 12.207604 s\n",
      "Starting Epoch : 33\n",
      "Epoch took 13.796181 s\n",
      "Starting Epoch : 34\n",
      "Epoch took 13.057061 s\n",
      "Starting Epoch : 35\n",
      "Iteration : 35 -> [Validation] Purity: 0.000000 ; Completeness: 0.000000\n",
      "Iteration : 35 -> [Training] Purity: 0.500000 ; Completeness: 0.043478\n",
      "Epoch took 14.371551 s\n",
      "Starting Epoch : 36\n",
      "Epoch took 12.483317 s\n",
      "Starting Epoch : 37\n",
      "Epoch took 12.115654 s\n",
      "Starting Epoch : 38\n",
      "Epoch took 12.317313 s\n",
      "Starting Epoch : 39\n",
      "Epoch took 12.005023 s\n",
      "Starting Epoch : 40\n",
      "Iteration : 40 -> [Validation] Purity: 0.000000 ; Completeness: 0.000000\n",
      "Iteration : 40 -> [Training] Purity: 0.666667 ; Completeness: 0.086957\n",
      "Epoch took 11.967986 s\n",
      "Starting Epoch : 41\n",
      "Epoch took 12.104546 s\n",
      "Starting Epoch : 42\n",
      "Epoch took 12.329407 s\n",
      "Starting Epoch : 43\n",
      "Epoch took 12.047757 s\n",
      "Starting Epoch : 44\n",
      "Epoch took 12.011291 s\n",
      "Starting Epoch : 45\n",
      "Iteration : 45 -> [Validation] Purity: 0.333333 ; Completeness: 0.052632\n",
      "Iteration : 45 -> [Training] Purity: 0.750000 ; Completeness: 0.130435\n",
      "Epoch took 11.957325 s\n",
      "Starting Epoch : 46\n",
      "Epoch took 14.738780 s\n",
      "Starting Epoch : 47\n",
      "Epoch took 12.313574 s\n",
      "Starting Epoch : 48\n",
      "Epoch took 11.980100 s\n",
      "Starting Epoch : 49\n",
      "Epoch took 12.777512 s\n"
     ]
    },
    {
     "data": {
      "text/plain": [
       "deeplens_classifier()"
      ]
     },
     "execution_count": 12,
     "metadata": {},
     "output_type": "execute_result"
    }
   ],
   "source": [
    "model.fit(x,y,xval,yval) # Train the model, the validation set is provided for evaluation of the model"
   ]
  },
  {
   "cell_type": "code",
   "execution_count": 13,
   "metadata": {},
   "outputs": [
    {
     "name": "stdout",
     "output_type": "stream",
     "text": [
      "saving to deeplens_params.npy...\n"
     ]
    }
   ],
   "source": [
    "# Saving the model parameters\n",
    "model.save('deeplens_params.npy')"
   ]
  },
  {
   "cell_type": "code",
   "execution_count": null,
   "metadata": {
    "collapsed": true
   },
   "outputs": [],
   "source": []
  },
  {
   "cell_type": "code",
   "execution_count": 16,
   "metadata": {},
   "outputs": [
    {
     "data": {
      "image/png": "[encoded data removed]",
      "text/plain": [
       "<matplotlib.figure.Figure at 0x1c371cf0f0>"
      ]
     },
     "metadata": {},
     "output_type": "display_data"
    }
   ],
   "source": [
    "# Plot ROC curve on the training set [Warning: not very meaningful]\n",
    "tpr,fpr,th = model.eval_ROC(xval,yval)\n",
    "plt.title('ROC on Training set')\n",
    "plt.plot(fpr,tpr)\n",
    "plt.xlabel('FPR'); plt.ylabel('TPR')\n",
    "plt.xlim(0,1.0); plt.ylim(0,1.)\n",
    "plt.grid('on')"
   ]
  },
  {
   "cell_type": "code",
   "execution_count": null,
   "metadata": {
    "collapsed": true
   },
   "outputs": [],
   "source": [
    "# Obtain predicted probabilities for each image\n",
    "p = model.predict_proba(xval)"
   ]
  }
 ],
 "metadata": {
  "kernelspec": {
   "display_name": "Python 3",
   "language": "python",
   "name": "python3"
  },
  "language_info": {
   "codemirror_mode": {
    "name": "ipython",
    "version": 3
   },
   "file_extension": ".py",
   "mimetype": "text/x-python",
   "name": "python",
   "nbconvert_exporter": "python",
   "pygments_lexer": "ipython3",
   "version": "3.6.3"
  }
 },
 "nbformat": 4,
 "nbformat_minor": 2
}
