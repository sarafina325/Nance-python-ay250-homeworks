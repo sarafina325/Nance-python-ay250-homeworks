{
 "cells": [
  {
   "cell_type": "markdown",
   "metadata": {},
   "source": [
    "# Interaction with the World Homework (#3)\n",
    "Python Computing for Data Science (c) J Bloom, UC Berkeley, 2016"
   ]
  },
  {
   "cell_type": "markdown",
   "metadata": {},
   "source": [
    "# 1) Monty: The Python Siri\n",
    "\n",
    "Let's make a Siri-like program with the following properties:\n",
    "   - record your voice command\n",
    "   - use a webservice to parse that sound file into text\n",
    "   - based on what the text, take three different types of actions:\n",
    "       - send an email to yourself\n",
    "       - do some math\n",
    "       - tell a joke\n",
    "\n",
    "So for example, if you say \"Monty: email me with subject hello and body goodbye\", it will email you with the appropriate subject and body. If you say \"Monty: tell me a joke\" then it will go to the web and find a joke and print it for you. If you say, \"Monty: calculate two times three\" it should response with printing the number 6.\n",
    "\n",
    "Hint: you can use speed-to-text apps like Houndify to return the text (but not do the actions). You'll need to sign up for a free API and then follow documentation instructions for using the service within Python. "
   ]
  },
  {
   "cell_type": "code",
   "execution_count": 266,
   "metadata": {
    "collapsed": true
   },
   "outputs": [],
   "source": [
    "#\n",
    "# Module to parse sound file into text, must have speech_recognition module installed \n",
    "# If not installed, do 'pip install speech_recognition'\n",
    "#\n",
    "\n",
    "import speech_recognition as sr\n",
    "\n",
    "#\n",
    "# Modules to send an e-mail\n",
    "#\n",
    "\n",
    "import smtplib\n",
    "from email.mime.multipart import MIMEMultipart\n",
    "from email.mime.text import MIMEText\n",
    "\n",
    "#\n",
    "# Module to tell a joke\n",
    "# If not installed, do 'pip install pyjokes'\n",
    "#\n",
    "\n",
    "from bs4 import BeautifulSoup\n",
    "from lxml import html\n",
    "import requests\n",
    "\n",
    "from random import randint"
   ]
  },
  {
   "cell_type": "code",
   "execution_count": 269,
   "metadata": {},
   "outputs": [
    {
     "name": "stdout",
     "output_type": "stream",
     "text": [
      "Say something!\n",
      "Monty tell me a joke\n"
     ]
    }
   ],
   "source": [
    "\n",
    "#Leverage speech recognition module to parse sound file into text\n",
    "\n",
    "\n",
    "r = sr.Recognizer()\n",
    "with sr.Microphone() as source:\n",
    "    print(\"Say something!\")\n",
    "    audio = r.listen(source)\n",
    "\n",
    "text = r.recognize_google(audio)\n",
    "# text = 'Monty, email me with subject hello and body goodbye bye bye bye'\n",
    "print(text)"
   ]
  },
  {
   "cell_type": "code",
   "execution_count": 270,
   "metadata": {},
   "outputs": [
    {
     "name": "stdout",
     "output_type": "stream",
     "text": [
      "Two goldfish are in a tank. One says to the other, \"do you know how to drive this thing\n",
      "...\n",
      "...\n",
      "...\n",
      "\"\n"
     ]
    }
   ],
   "source": [
    "#\n",
    "# Split my string of text commands into discrete words\n",
    "#\n",
    "\n",
    "words = text.split(' ')\n",
    "\n",
    "#\n",
    "# Based on the split words, determine what action the program should take\n",
    "#\n",
    "\n",
    "email_input = ['email', 'message', 'emails', 'send']\n",
    "joke_input = ['joke', 'laugh', 'tell', 'give']\n",
    "math_input = ['operator', 'add', 'divide', 'subtract', 'multiply', 'number', 'integer', 'calculate']\n",
    "\n",
    "if words[1] in email_input:\n",
    "    \n",
    "    fromaddr = \"sarafinanance008@gmail.com\"\n",
    "    toaddr = \"sarafinanance008@gmail.com\"\n",
    "    msg = MIMEMultipart()\n",
    "    msg['From'] = fromaddr\n",
    "    msg['To'] = toaddr\n",
    "    \n",
    "    for i in range(len(words)):\n",
    "        if words[i] == 'subject':\n",
    "            subj_element = words[5]\n",
    "        if words[i] == 'body':\n",
    "            body_element = words[8:]\n",
    "            body_full = ' '.join(body_element)\n",
    "        \n",
    "    msg['Subject'] = subj_element\n",
    "\n",
    "    body = body_full\n",
    "            \n",
    "    msg.attach(MIMEText(body, 'plain'))\n",
    "\n",
    "    server = smtplib.SMTP('smtp.gmail.com', 587)\n",
    "    server.starttls()\n",
    "    server.login(fromaddr, \"fiffles123*\")\n",
    "    text = msg.as_string()\n",
    "    server.sendmail(fromaddr, toaddr, text)\n",
    "    server.quit()\n",
    "    \n",
    "elif words[1] in joke_input:\n",
    "\n",
    "    page = requests.get('http://pun.me/pages/dad-jokes.php')\n",
    "    soup = BeautifulSoup(page.text,\"html.parser\")\n",
    "    joke = soup.find(class_ = \"content\").get_text()\n",
    "    joke_split = joke.split(\"\\n\")\n",
    "\n",
    "    jokes = jokes[:43]\n",
    "\n",
    "    for i in range(len(jokes)):\n",
    "        joke = jokes[i]\n",
    "        joke = joke.replace(\"\\t\\t\", \"\")\n",
    "        joke = joke.replace(\"\\tA\", \"\")\n",
    "        joke = joke.replace(\"(adsbygoogle = window.adsbygoogle || []).push({});\", \"\")\n",
    "        jokes[i] = joke\n",
    "\n",
    "    jokes = [x for x in jokes if x != '']\n",
    "    jokes = jokes[1:]\n",
    "\n",
    "    def validate_array(arr, q, a):\n",
    "      if (len(arr) > 1) and (arr[0] != '' and arr[1] != ''):\n",
    "        q.append(arr[0])\n",
    "        a.append(arr[1])\n",
    "      return [q, a]\n",
    "\n",
    "    def split_joke_and_validate_array(delimeters, joke, q, a):\n",
    "      for delimeter in delimeters:\n",
    "        arr = joke.split(delimeter)\n",
    "        qa = validate_array(arr, q, a)\n",
    "        q = qa[0]\n",
    "        a = qa[1]\n",
    "\n",
    "      return [q, a]\n",
    "\n",
    "    q = []\n",
    "    a = []\n",
    "\n",
    "    for x in range(len(jokes)):\n",
    "      delimeters = ['? ', '.']\n",
    "      joke = jokes[x]\n",
    "      qa = split_joke_and_validate_array(delimeters, joke, q, a)\n",
    "      q = qa[0]\n",
    "      a = qa[1]\n",
    "\n",
    "    random_number = randint(0, len(q)-1)\n",
    "\n",
    "    print(q[random_number])\n",
    "    time.sleep(2)\n",
    "    print(\"...\")\n",
    "    time.sleep(1)\n",
    "    print(\"...\")\n",
    "    time.sleep(1)\n",
    "    print(\"...\")\n",
    "    time.sleep(1)\n",
    "    print(a[random_number])\n",
    "\n",
    "elif words[1] in math_input:\n",
    "    operation_elements = words[2:]\n",
    "    operation = ' '.join(operation_elements)\n",
    "    solution = eval(operation)\n",
    "    print(solution)"
   ]
  },
  {
   "cell_type": "markdown",
   "metadata": {},
   "source": [
    "# 2) Write a program that identifies musical notes from sound (AIFF) files. \n",
    "\n",
    "  - Run it on the supplied sound files (12) and report your program’s results. \n",
    "  - Use the labeled sounds (4) to make sure it works correctly. The provided sound files contain 1-3 simultaneous notes from different organs.\n",
    "  - Save copies of any example plots to illustrate how your program works.\n",
    "  \n",
    "  https://piazza.com/berkeley/fall2016/ay250/resources -> hw3_sound_files.zip"
   ]
  },
  {
   "cell_type": "markdown",
   "metadata": {},
   "source": [
    "Hints: You’ll want to decompose the sound into a frequency power spectrum. Use a Fast Fourier Transform. Be care about “unpacking” the string hexcode into python data structures. The sound files use 32 bit data. Play around with what happens when you convert the string data to other integer sizes, or signed vs unsigned integers. Also, beware of harmonics."
   ]
  },
  {
   "cell_type": "code",
   "execution_count": null,
   "metadata": {
    "collapsed": true
   },
   "outputs": [],
   "source": []
  }
 ],
 "metadata": {
  "kernelspec": {
   "display_name": "Python 3",
   "language": "python",
   "name": "python3"
  },
  "language_info": {
   "codemirror_mode": {
    "name": "ipython",
    "version": 3
   },
   "file_extension": ".py",
   "mimetype": "text/x-python",
   "name": "python",
   "nbconvert_exporter": "python",
   "pygments_lexer": "ipython3",
   "version": "3.6.3"
  }
 },
 "nbformat": 4,
 "nbformat_minor": 1
}
